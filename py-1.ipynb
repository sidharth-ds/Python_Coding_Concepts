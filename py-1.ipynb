{
 "cells": [
  {
   "cell_type": "markdown",
   "id": "0d719c72",
   "metadata": {},
   "source": [
    "#  Data Types in python:"
   ]
  },
  {
   "cell_type": "markdown",
   "id": "5ec5ea25",
   "metadata": {},
   "source": [
    " - Numbers : int, float\n",
    " - Strings"
   ]
  },
  {
   "cell_type": "code",
   "execution_count": null,
   "id": "253f97b8",
   "metadata": {},
   "outputs": [],
   "source": [
    "type()  # to know the type of data"
   ]
  },
  {
   "cell_type": "code",
   "execution_count": null,
   "id": "3d5e3027",
   "metadata": {},
   "outputs": [],
   "source": [
    "len()   # to know the length of data"
   ]
  },
  {
   "cell_type": "markdown",
   "id": "1a2e6870",
   "metadata": {},
   "source": [
    "#  To access in-built fuctions:  (after . press tab):"
   ]
  },
  {
   "cell_type": "markdown",
   "id": "7f5c51a0",
   "metadata": {},
   "source": [
    "######  in-built functions for a String:"
   ]
  },
  {
   "cell_type": "code",
   "execution_count": 1,
   "id": "2f871cb3",
   "metadata": {},
   "outputs": [],
   "source": [
    "my_name = 'sid'"
   ]
  },
  {
   "cell_type": "code",
   "execution_count": null,
   "id": "af15d732",
   "metadata": {},
   "outputs": [],
   "source": [
    "my_name."
   ]
  },
  {
   "cell_type": "code",
   "execution_count": 2,
   "id": "1dba5fd5",
   "metadata": {},
   "outputs": [
    {
     "data": {
      "text/plain": [
       "True"
      ]
     },
     "execution_count": 2,
     "metadata": {},
     "output_type": "execute_result"
    }
   ],
   "source": [
    "my_name.startswith('s')"
   ]
  },
  {
   "cell_type": "markdown",
   "id": "1886f2ed",
   "metadata": {},
   "source": [
    "###### press shift + tab over the inbulit functions : to see the possible operations:"
   ]
  },
  {
   "cell_type": "code",
   "execution_count": null,
   "id": "6ba04b38",
   "metadata": {},
   "outputs": [],
   "source": [
    "print()   # press shift + tab"
   ]
  },
  {
   "cell_type": "markdown",
   "id": "a3f9f380",
   "metadata": {},
   "source": [
    "#  Boolean and Logical operations:"
   ]
  },
  {
   "cell_type": "code",
   "execution_count": 3,
   "id": "36c18efc",
   "metadata": {},
   "outputs": [
    {
     "data": {
      "text/plain": [
       "True"
      ]
     },
     "execution_count": 3,
     "metadata": {},
     "output_type": "execute_result"
    }
   ],
   "source": [
    "True and True"
   ]
  },
  {
   "cell_type": "code",
   "execution_count": 4,
   "id": "f2fc4b86",
   "metadata": {},
   "outputs": [
    {
     "data": {
      "text/plain": [
       "False"
      ]
     },
     "execution_count": 4,
     "metadata": {},
     "output_type": "execute_result"
    }
   ],
   "source": [
    "True and False"
   ]
  },
  {
   "cell_type": "code",
   "execution_count": 5,
   "id": "fdeb88d7",
   "metadata": {},
   "outputs": [
    {
     "data": {
      "text/plain": [
       "True"
      ]
     },
     "execution_count": 5,
     "metadata": {},
     "output_type": "execute_result"
    }
   ],
   "source": [
    "True or False"
   ]
  },
  {
   "cell_type": "code",
   "execution_count": 6,
   "id": "7556e03b",
   "metadata": {},
   "outputs": [
    {
     "data": {
      "text/plain": [
       "False"
      ]
     },
     "execution_count": 6,
     "metadata": {},
     "output_type": "execute_result"
    }
   ],
   "source": [
    "False or False"
   ]
  },
  {
   "cell_type": "code",
   "execution_count": 7,
   "id": "282fe61a",
   "metadata": {},
   "outputs": [
    {
     "data": {
      "text/plain": [
       "True"
      ]
     },
     "execution_count": 7,
     "metadata": {},
     "output_type": "execute_result"
    }
   ],
   "source": [
    "True or True"
   ]
  },
  {
   "cell_type": "markdown",
   "id": "fcb68bc4",
   "metadata": {},
   "source": [
    "######  application of Boolean:"
   ]
  },
  {
   "cell_type": "code",
   "execution_count": 8,
   "id": "5dafd0d6",
   "metadata": {},
   "outputs": [],
   "source": [
    "a = \"hello world\"\n",
    "b = \"sidharth\""
   ]
  },
  {
   "cell_type": "code",
   "execution_count": 9,
   "id": "7d83bf6a",
   "metadata": {},
   "outputs": [
    {
     "data": {
      "text/plain": [
       "False"
      ]
     },
     "execution_count": 9,
     "metadata": {},
     "output_type": "execute_result"
    }
   ],
   "source": [
    "a.isalpha() and b.isnumeric()"
   ]
  },
  {
   "cell_type": "markdown",
   "id": "48258a68",
   "metadata": {},
   "source": [
    "#  List:"
   ]
  },
  {
   "cell_type": "markdown",
   "id": "e9325169",
   "metadata": {},
   "source": [
    "######  List is an Ordered sequence of elements, mutable."
   ]
  },
  {
   "cell_type": "code",
   "execution_count": null,
   "id": "ec8163de",
   "metadata": {},
   "outputs": [],
   "source": [
    "list_name = list()"
   ]
  },
  {
   "cell_type": "markdown",
   "id": "bfaff588",
   "metadata": {},
   "source": [
    "###### append()  ----  adds single_item at the end of the list"
   ]
  },
  {
   "cell_type": "code",
   "execution_count": null,
   "id": "03087496",
   "metadata": {},
   "outputs": [],
   "source": [
    "list_name.append()"
   ]
  },
  {
   "cell_type": "markdown",
   "id": "492ebca7",
   "metadata": {},
   "source": [
    "######  insert() ----- adds single_item at the specific index_position in the list"
   ]
  },
  {
   "cell_type": "code",
   "execution_count": null,
   "id": "084a23ef",
   "metadata": {},
   "outputs": [],
   "source": [
    "list_name.insert(index_position,item_to_be_inserted)"
   ]
  },
  {
   "cell_type": "markdown",
   "id": "48ed157c",
   "metadata": {},
   "source": [
    "######  extend() ---- adds multiple_items at the end of the list"
   ]
  },
  {
   "cell_type": "code",
   "execution_count": null,
   "id": "82c4d3f7",
   "metadata": {},
   "outputs": [],
   "source": [
    "list_name.extend([,,,])"
   ]
  },
  {
   "cell_type": "markdown",
   "id": "aae4999f",
   "metadata": {},
   "source": [
    "######  pop() ---- removes an_item from the list"
   ]
  },
  {
   "cell_type": "code",
   "execution_count": null,
   "id": "a97ac4ed",
   "metadata": {},
   "outputs": [],
   "source": [
    "list_name.pop()  # removes the last item by default"
   ]
  },
  {
   "cell_type": "code",
   "execution_count": null,
   "id": "aff372c8",
   "metadata": {},
   "outputs": [],
   "source": [
    "list_name.pop(index_number) # removes the specified index item"
   ]
  },
  {
   "cell_type": "markdown",
   "id": "2d9f30d3",
   "metadata": {},
   "source": [
    "######  count() ---- gives the total_occurance of the specified_item"
   ]
  },
  {
   "cell_type": "code",
   "execution_count": null,
   "id": "264d3bfb",
   "metadata": {},
   "outputs": [],
   "source": [
    "list_name.count(item)"
   ]
  },
  {
   "cell_type": "markdown",
   "id": "8bff1faa",
   "metadata": {},
   "source": [
    "######  index() ---- gives the index_position of the first_occurance of the specified_item"
   ]
  },
  {
   "cell_type": "code",
   "execution_count": null,
   "id": "0a58a741",
   "metadata": {},
   "outputs": [],
   "source": [
    "list_name.index(item)"
   ]
  },
  {
   "cell_type": "code",
   "execution_count": null,
   "id": "253a97e9",
   "metadata": {},
   "outputs": [],
   "source": [
    "list_name.index(item, start_index, end_index)  # it searches the item within the specified index_range"
   ]
  },
  {
   "cell_type": "markdown",
   "id": "78f23201",
   "metadata": {},
   "source": [
    "######  other operations:"
   ]
  },
  {
   "cell_type": "code",
   "execution_count": null,
   "id": "7c9df32f",
   "metadata": {},
   "outputs": [],
   "source": [
    "sum()"
   ]
  },
  {
   "cell_type": "code",
   "execution_count": null,
   "id": "2275b688",
   "metadata": {},
   "outputs": [],
   "source": [
    "min(), max()"
   ]
  },
  {
   "cell_type": "code",
   "execution_count": null,
   "id": "4d695ab5",
   "metadata": {},
   "outputs": [],
   "source": [
    "list_name * 5  # means same list gets appended 5 times"
   ]
  },
  {
   "cell_type": "markdown",
   "id": "6afc9819",
   "metadata": {},
   "source": [
    "# Set"
   ]
  },
  {
   "cell_type": "markdown",
   "id": "9ffd540d",
   "metadata": {},
   "source": [
    "######  Unordered, Mutable, Iterable, but no Duplicate items."
   ]
  },
  {
   "cell_type": "markdown",
   "id": "f842cda2",
   "metadata": {},
   "source": [
    "######  Set is based on the Data structure known as Hash table"
   ]
  },
  {
   "cell_type": "code",
   "execution_count": 1,
   "id": "a85f18f4",
   "metadata": {},
   "outputs": [],
   "source": [
    "set_var = set()"
   ]
  },
  {
   "cell_type": "code",
   "execution_count": null,
   "id": "1a66be1c",
   "metadata": {},
   "outputs": [],
   "source": [
    "set_var[0]   # Set does not support Indexing"
   ]
  },
  {
   "cell_type": "code",
   "execution_count": null,
   "id": "04c9413e",
   "metadata": {},
   "outputs": [],
   "source": [
    "set_var['avengers']   # Set is not Subscriptable also."
   ]
  },
  {
   "cell_type": "code",
   "execution_count": null,
   "id": "8e4f3875",
   "metadata": {},
   "outputs": [],
   "source": [
    "set_var.       # press tab to see the inbuilt functions (add,intersection,difference,...)"
   ]
  },
  {
   "cell_type": "markdown",
   "id": "3efd19fb",
   "metadata": {},
   "source": [
    "#  Dictionary"
   ]
  },
  {
   "cell_type": "markdown",
   "id": "425bebc8",
   "metadata": {},
   "source": [
    "######  Unordered, Mutable, Indexed"
   ]
  },
  {
   "cell_type": "code",
   "execution_count": null,
   "id": "5ac8101e",
   "metadata": {},
   "outputs": [],
   "source": [
    "my_dict = {'car1':'audi','car2':'bmw','car3':'tata'}"
   ]
  },
  {
   "cell_type": "markdown",
   "id": "05723717",
   "metadata": {},
   "source": [
    "######  Access value based on key (not based on index)"
   ]
  },
  {
   "cell_type": "code",
   "execution_count": null,
   "id": "16356e44",
   "metadata": {},
   "outputs": [],
   "source": [
    "my_dict['audi']    "
   ]
  },
  {
   "cell_type": "markdown",
   "id": "ea2a257d",
   "metadata": {},
   "source": [
    "###### Looping through dictionary_keys:"
   ]
  },
  {
   "cell_type": "code",
   "execution_count": null,
   "id": "9eb651a3",
   "metadata": {},
   "outputs": [],
   "source": [
    "for i in my_dict:\n",
    "    print(i)"
   ]
  },
  {
   "cell_type": "markdown",
   "id": "bac369f3",
   "metadata": {},
   "source": [
    "###### Looping through dictionary_values:"
   ]
  },
  {
   "cell_type": "code",
   "execution_count": null,
   "id": "83edb54f",
   "metadata": {},
   "outputs": [],
   "source": [
    "for i in my_dict.values():\n",
    "    print(i)"
   ]
  },
  {
   "cell_type": "markdown",
   "id": "5e26dae3",
   "metadata": {},
   "source": [
    "###### Looping through both key & values pairs:"
   ]
  },
  {
   "cell_type": "code",
   "execution_count": null,
   "id": "a8802581",
   "metadata": {},
   "outputs": [],
   "source": [
    "for i in my_dict.items():\n",
    "    print(i)"
   ]
  },
  {
   "cell_type": "markdown",
   "id": "fb217f7b",
   "metadata": {},
   "source": [
    "###### Adding and Updating data in dictionary:"
   ]
  },
  {
   "cell_type": "code",
   "execution_count": null,
   "id": "51c14808",
   "metadata": {},
   "outputs": [],
   "source": [
    "my_dict['car4'] = 'maruthi'"
   ]
  },
  {
   "cell_type": "markdown",
   "id": "9c9b498c",
   "metadata": {},
   "source": [
    "### Nested dictionary:"
   ]
  },
  {
   "cell_type": "code",
   "execution_count": 5,
   "id": "0892e499",
   "metadata": {},
   "outputs": [],
   "source": [
    "car1_model={'benz':1960}\n",
    "car2_model={'audi':1980}\n",
    "car3_model={'ambassador':1940}\n",
    "\n",
    "car_type = {'car1':car1_model,'car2':car2_model,'car3':car3_model}"
   ]
  },
  {
   "cell_type": "code",
   "execution_count": 6,
   "id": "05499573",
   "metadata": {},
   "outputs": [
    {
     "name": "stdout",
     "output_type": "stream",
     "text": [
      "{'car1': {'benz': 1960}, 'car2': {'audi': 1980}, 'car3': {'ambassador': 1940}}\n"
     ]
    }
   ],
   "source": [
    "print(car_type)"
   ]
  },
  {
   "cell_type": "markdown",
   "id": "d4ec158e",
   "metadata": {},
   "source": [
    "######  to access data inside nested dictionary:"
   ]
  },
  {
   "cell_type": "code",
   "execution_count": 7,
   "id": "55fc7c90",
   "metadata": {},
   "outputs": [
    {
     "data": {
      "text/plain": [
       "{'benz': 1960}"
      ]
     },
     "execution_count": 7,
     "metadata": {},
     "output_type": "execute_result"
    }
   ],
   "source": [
    "car_type['car1']"
   ]
  },
  {
   "cell_type": "code",
   "execution_count": 8,
   "id": "3024e776",
   "metadata": {},
   "outputs": [
    {
     "data": {
      "text/plain": [
       "1960"
      ]
     },
     "execution_count": 8,
     "metadata": {},
     "output_type": "execute_result"
    }
   ],
   "source": [
    "car_type['car1']['benz']"
   ]
  },
  {
   "cell_type": "markdown",
   "id": "b91acb62",
   "metadata": {},
   "source": [
    "# Tuple:"
   ]
  },
  {
   "cell_type": "markdown",
   "id": "b6dd15c6",
   "metadata": {},
   "source": [
    "###### once created, it is Immutable."
   ]
  },
  {
   "cell_type": "code",
   "execution_count": 10,
   "id": "f76863a6",
   "metadata": {},
   "outputs": [],
   "source": [
    "my_tuple = tuple()"
   ]
  },
  {
   "cell_type": "code",
   "execution_count": 11,
   "id": "4f4b7869",
   "metadata": {},
   "outputs": [],
   "source": [
    "my_tuple = ('sid','krish','john')"
   ]
  },
  {
   "cell_type": "markdown",
   "id": "d102bc85",
   "metadata": {},
   "source": [
    "###### to access data inside tuple:"
   ]
  },
  {
   "cell_type": "code",
   "execution_count": 12,
   "id": "e8e3326c",
   "metadata": {},
   "outputs": [
    {
     "data": {
      "text/plain": [
       "'sid'"
      ]
     },
     "execution_count": 12,
     "metadata": {},
     "output_type": "execute_result"
    }
   ],
   "source": [
    "my_tuple[0]"
   ]
  },
  {
   "cell_type": "markdown",
   "id": "36132199",
   "metadata": {},
   "source": [
    "###### immutable:"
   ]
  },
  {
   "cell_type": "code",
   "execution_count": 13,
   "id": "bdca9d14",
   "metadata": {},
   "outputs": [
    {
     "ename": "TypeError",
     "evalue": "'tuple' object does not support item assignment",
     "output_type": "error",
     "traceback": [
      "\u001b[1;31m---------------------------------------------------------------------------\u001b[0m",
      "\u001b[1;31mTypeError\u001b[0m                                 Traceback (most recent call last)",
      "\u001b[1;32m~\\AppData\\Local\\Temp/ipykernel_600/741686156.py\u001b[0m in \u001b[0;36m<module>\u001b[1;34m\u001b[0m\n\u001b[1;32m----> 1\u001b[1;33m \u001b[0mmy_tuple\u001b[0m\u001b[1;33m[\u001b[0m\u001b[1;36m0\u001b[0m\u001b[1;33m]\u001b[0m \u001b[1;33m=\u001b[0m \u001b[1;34m'sri'\u001b[0m\u001b[1;33m\u001b[0m\u001b[1;33m\u001b[0m\u001b[0m\n\u001b[0m",
      "\u001b[1;31mTypeError\u001b[0m: 'tuple' object does not support item assignment"
     ]
    }
   ],
   "source": [
    "my_tuple[0] = 'sri'"
   ]
  },
  {
   "cell_type": "markdown",
   "id": "a24abacb",
   "metadata": {},
   "source": [
    "###### we can change the entire tuple data, but not few data (by indexing/item assignment):"
   ]
  },
  {
   "cell_type": "code",
   "execution_count": 15,
   "id": "1dbf2105",
   "metadata": {},
   "outputs": [
    {
     "data": {
      "text/plain": [
       "('sid', 'krish', 'john')"
      ]
     },
     "execution_count": 15,
     "metadata": {},
     "output_type": "execute_result"
    }
   ],
   "source": [
    "my_tuple = ('sid','krish','john')\n",
    "my_tuple"
   ]
  },
  {
   "cell_type": "code",
   "execution_count": 16,
   "id": "4acbb326",
   "metadata": {},
   "outputs": [
    {
     "data": {
      "text/plain": [
       "('sid', 'world', 'hello')"
      ]
     },
     "execution_count": 16,
     "metadata": {},
     "output_type": "execute_result"
    }
   ],
   "source": [
    "my_tuple = ('sid','world','hello')\n",
    "my_tuple"
   ]
  },
  {
   "cell_type": "markdown",
   "id": "c7227b21",
   "metadata": {},
   "source": [
    "##_Application : tuple is used in apps where the definition of the item is required just for one time. \n",
    "##_You cannot perform any operations on it. You can only replace the whole tuple"
   ]
  },
  {
   "cell_type": "markdown",
   "id": "53c442bb",
   "metadata": {},
   "source": [
    "###### in-built functions of tuple:"
   ]
  },
  {
   "cell_type": "code",
   "execution_count": 17,
   "id": "ec363514",
   "metadata": {},
   "outputs": [
    {
     "data": {
      "text/plain": [
       "1"
      ]
     },
     "execution_count": 17,
     "metadata": {},
     "output_type": "execute_result"
    }
   ],
   "source": [
    "my_tuple.count('sid')"
   ]
  },
  {
   "cell_type": "code",
   "execution_count": 19,
   "id": "73692cf7",
   "metadata": {},
   "outputs": [
    {
     "data": {
      "text/plain": [
       "2"
      ]
     },
     "execution_count": 19,
     "metadata": {},
     "output_type": "execute_result"
    }
   ],
   "source": [
    "my_tuple.index('hello')"
   ]
  }
 ],
 "metadata": {
  "kernelspec": {
   "display_name": "Python 3 (ipykernel)",
   "language": "python",
   "name": "python3"
  },
  "language_info": {
   "codemirror_mode": {
    "name": "ipython",
    "version": 3
   },
   "file_extension": ".py",
   "mimetype": "text/x-python",
   "name": "python",
   "nbconvert_exporter": "python",
   "pygments_lexer": "ipython3",
   "version": "3.9.7"
  }
 },
 "nbformat": 4,
 "nbformat_minor": 5
}
