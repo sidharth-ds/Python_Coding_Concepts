{
 "cells": [
  {
   "cell_type": "markdown",
   "id": "a77cb49e",
   "metadata": {},
   "source": [
    "# List Iterables vs Iterators:"
   ]
  },
  {
   "cell_type": "markdown",
   "id": "26e77f27",
   "metadata": {},
   "source": [
    "### Iterables:  (capable of accessing a sequence of items)"
   ]
  },
  {
   "cell_type": "code",
   "execution_count": 13,
   "id": "1f6d695e",
   "metadata": {},
   "outputs": [],
   "source": [
    "lis = [1,2,3,4,5,6,7,8,9]"
   ]
  },
  {
   "cell_type": "code",
   "execution_count": 14,
   "id": "927084dc",
   "metadata": {},
   "outputs": [
    {
     "name": "stdout",
     "output_type": "stream",
     "text": [
      "1\n",
      "2\n",
      "3\n",
      "4\n",
      "5\n",
      "6\n",
      "7\n",
      "8\n",
      "9\n"
     ]
    }
   ],
   "source": [
    "for i in lis:\n",
    "    print(i)"
   ]
  },
  {
   "cell_type": "code",
   "execution_count": null,
   "id": "16854292",
   "metadata": {},
   "outputs": [],
   "source": [
    "#  All the items in iterables will be allocated a Memory location.\n",
    "\n",
    "#  Hence consumes more Memory."
   ]
  },
  {
   "cell_type": "markdown",
   "id": "a217f0ae",
   "metadata": {},
   "source": [
    "### Iterator: iter()  ......... ( it is an in-built function)"
   ]
  },
  {
   "cell_type": "code",
   "execution_count": null,
   "id": "726de1bc",
   "metadata": {},
   "outputs": [],
   "source": [
    "#  iter() ---- will convert a list (iterables) into an Iterator"
   ]
  },
  {
   "cell_type": "code",
   "execution_count": 16,
   "id": "4980a384",
   "metadata": {},
   "outputs": [],
   "source": [
    "lis1 = [1,2,3,4,5,6,7,8,9]"
   ]
  },
  {
   "cell_type": "code",
   "execution_count": 17,
   "id": "7bca63b3",
   "metadata": {},
   "outputs": [
    {
     "data": {
      "text/plain": [
       "<list_iterator at 0x11c42fcce20>"
      ]
     },
     "execution_count": 17,
     "metadata": {},
     "output_type": "execute_result"
    }
   ],
   "source": [
    "iter(lis1)"
   ]
  },
  {
   "cell_type": "markdown",
   "id": "e08d0ddc",
   "metadata": {},
   "source": [
    "#### to retrive the items, next() function is used:"
   ]
  },
  {
   "cell_type": "code",
   "execution_count": null,
   "id": "0634c2dd",
   "metadata": {},
   "outputs": [],
   "source": [
    "# Only one item will be initialised at a time in a memory_location.\n",
    "\n",
    "# All the items will_not be initialised in a memory_location."
   ]
  },
  {
   "cell_type": "code",
   "execution_count": 22,
   "id": "bbfe435c",
   "metadata": {},
   "outputs": [],
   "source": [
    "x = iter(lis1)"
   ]
  },
  {
   "cell_type": "code",
   "execution_count": 24,
   "id": "48d43769",
   "metadata": {},
   "outputs": [
    {
     "data": {
      "text/plain": [
       "2"
      ]
     },
     "execution_count": 24,
     "metadata": {},
     "output_type": "execute_result"
    }
   ],
   "source": [
    "next(x)     # next() will retrive the items one-by-one (initialize --> store ---> retrive)"
   ]
  },
  {
   "cell_type": "code",
   "execution_count": null,
   "id": "9392d5f1",
   "metadata": {},
   "outputs": [],
   "source": [
    "# after the last_item is retrived, it throws Stop_Iteration_Error"
   ]
  },
  {
   "cell_type": "markdown",
   "id": "8d82f8a3",
   "metadata": {},
   "source": [
    "###### using for_loop to retrive remaining_items or range_of_items:"
   ]
  },
  {
   "cell_type": "code",
   "execution_count": 25,
   "id": "3ab87f1b",
   "metadata": {},
   "outputs": [
    {
     "name": "stdout",
     "output_type": "stream",
     "text": [
      "3\n",
      "4\n",
      "5\n",
      "6\n",
      "7\n",
      "8\n",
      "9\n"
     ]
    }
   ],
   "source": [
    "for j in x:\n",
    "    print(j)"
   ]
  },
  {
   "cell_type": "code",
   "execution_count": null,
   "id": "86aba69a",
   "metadata": {},
   "outputs": [],
   "source": [
    "# after the last_item is retrived, it does not throw Error since for loop is a definite loop"
   ]
  },
  {
   "cell_type": "markdown",
   "id": "81b85998",
   "metadata": {},
   "source": [
    "###### exception handling for Stop_Iteration_Error:"
   ]
  },
  {
   "cell_type": "code",
   "execution_count": 26,
   "id": "3363545d",
   "metadata": {},
   "outputs": [
    {
     "name": "stdout",
     "output_type": "stream",
     "text": [
      "the Iterator is empty\n"
     ]
    }
   ],
   "source": [
    "try:\n",
    "    print(next(x))\n",
    "except:\n",
    "    print('the Iterator is empty')"
   ]
  },
  {
   "cell_type": "markdown",
   "id": "07bb644b",
   "metadata": {},
   "source": [
    "# Generator:\n",
    "\n",
    "Generator is basically used in order to create Iterator."
   ]
  },
  {
   "cell_type": "markdown",
   "id": "c4e9c3da",
   "metadata": {},
   "source": [
    "#### \"return\" keyword gives only the first item:"
   ]
  },
  {
   "cell_type": "code",
   "execution_count": 27,
   "id": "55e5da1a",
   "metadata": {},
   "outputs": [],
   "source": [
    "def square(n):\n",
    "    for i in range(n):\n",
    "        return i**2"
   ]
  },
  {
   "cell_type": "code",
   "execution_count": 29,
   "id": "a2e26218",
   "metadata": {},
   "outputs": [
    {
     "data": {
      "text/plain": [
       "0"
      ]
     },
     "execution_count": 29,
     "metadata": {},
     "output_type": "execute_result"
    }
   ],
   "source": [
    "square(4)"
   ]
  },
  {
   "cell_type": "markdown",
   "id": "f2ed7888",
   "metadata": {},
   "source": [
    "#### \"yield\" keyword retrives all the items from the generator:\n",
    "\n",
    "yield makes the entire function into iterator, but it is a generator."
   ]
  },
  {
   "cell_type": "code",
   "execution_count": 39,
   "id": "48c821b0",
   "metadata": {},
   "outputs": [],
   "source": [
    "def square(n):\n",
    "    for i in range(n):\n",
    "        yield i**2"
   ]
  },
  {
   "cell_type": "code",
   "execution_count": 40,
   "id": "b7ad71a9",
   "metadata": {},
   "outputs": [
    {
     "data": {
      "text/plain": [
       "<generator object square at 0x0000011C430BCC80>"
      ]
     },
     "execution_count": 40,
     "metadata": {},
     "output_type": "execute_result"
    }
   ],
   "source": [
    "square(8)"
   ]
  },
  {
   "cell_type": "markdown",
   "id": "4a6a173c",
   "metadata": {},
   "source": [
    "#### \"next()\" function can be used to iter through the generator:"
   ]
  },
  {
   "cell_type": "code",
   "execution_count": 45,
   "id": "4b2787f0",
   "metadata": {},
   "outputs": [],
   "source": [
    "z = square(8)"
   ]
  },
  {
   "cell_type": "code",
   "execution_count": 48,
   "id": "6e02a6f5",
   "metadata": {},
   "outputs": [
    {
     "data": {
      "text/plain": [
       "4"
      ]
     },
     "execution_count": 48,
     "metadata": {},
     "output_type": "execute_result"
    }
   ],
   "source": [
    "next(z)"
   ]
  },
  {
   "cell_type": "markdown",
   "id": "51b7d4fc",
   "metadata": {},
   "source": [
    "#### for_loop to retrive the remaining items:\n",
    "\n",
    "Hence \"yield\" is same as iter()"
   ]
  },
  {
   "cell_type": "code",
   "execution_count": 49,
   "id": "bd6e4405",
   "metadata": {},
   "outputs": [
    {
     "name": "stdout",
     "output_type": "stream",
     "text": [
      "9\n",
      "16\n",
      "25\n",
      "36\n",
      "49\n"
     ]
    }
   ],
   "source": [
    "for i in z:\n",
    "    print(i)"
   ]
  },
  {
   "cell_type": "markdown",
   "id": "f26ebff5",
   "metadata": {},
   "source": [
    "### Difference between iterator and generator:\n",
    "\n",
    "1. to create Iterator, we use 'iter()'. But, to create Generator, we use 'a function' + 'yield' keyword.\n",
    "2. Generator uses yield_keyword: which saves the local_variable_value, can also return the l_v_value.\n",
    "\n",
    "3. Generator: helps to write Fast and Compact code.\n",
    "4. Iterator: is memory efficient."
   ]
  },
  {
   "cell_type": "markdown",
   "id": "eb915b12",
   "metadata": {},
   "source": [
    "### Commonalities:\n",
    "\n",
    "1. both uses next() function.\n",
    "2. Generator is also an Iterator. Generator inherits from the iterator."
   ]
  },
  {
   "cell_type": "markdown",
   "id": "91b9e649",
   "metadata": {},
   "source": [
    "# String Formatting:"
   ]
  },
  {
   "cell_type": "markdown",
   "id": "098a906c",
   "metadata": {},
   "source": [
    "###### method-1:"
   ]
  },
  {
   "cell_type": "code",
   "execution_count": 7,
   "id": "9e1cbc1d",
   "metadata": {},
   "outputs": [],
   "source": [
    "def welcome(name,age):\n",
    "    return 'my first name is {} , and my age is {}' .format(name,age)"
   ]
  },
  {
   "cell_type": "code",
   "execution_count": 8,
   "id": "eb13112d",
   "metadata": {},
   "outputs": [
    {
     "data": {
      "text/plain": [
       "'my first name is sid , and my age is 20'"
      ]
     },
     "execution_count": 8,
     "metadata": {},
     "output_type": "execute_result"
    }
   ],
   "source": [
    "welcome('sid',20)"
   ]
  },
  {
   "cell_type": "markdown",
   "id": "40c252ab",
   "metadata": {},
   "source": [
    "###### method-2:"
   ]
  },
  {
   "cell_type": "code",
   "execution_count": 11,
   "id": "e5c8c2f0",
   "metadata": {},
   "outputs": [],
   "source": [
    "def welcome_1(name,age):\n",
    "    return 'my first name is {name1} , and my age is {age1}' .format(age1=20,name1=name)"
   ]
  },
  {
   "cell_type": "code",
   "execution_count": 12,
   "id": "cc4f23f2",
   "metadata": {
    "scrolled": true
   },
   "outputs": [
    {
     "data": {
      "text/plain": [
       "'my first name is sid , and my age is 20'"
      ]
     },
     "execution_count": 12,
     "metadata": {},
     "output_type": "execute_result"
    }
   ],
   "source": [
    "welcome_1('sid',20)"
   ]
  },
  {
   "cell_type": "markdown",
   "id": "9769be53",
   "metadata": {},
   "source": [
    "# Exception Handling:"
   ]
  },
  {
   "cell_type": "code",
   "execution_count": 4,
   "id": "ba635fe5",
   "metadata": {},
   "outputs": [
    {
     "ename": "NameError",
     "evalue": "name 'b' is not defined",
     "output_type": "error",
     "traceback": [
      "\u001b[1;31m---------------------------------------------------------------------------\u001b[0m",
      "\u001b[1;31mNameError\u001b[0m                                 Traceback (most recent call last)",
      "\u001b[1;32m~\\AppData\\Local\\Temp/ipykernel_6956/1760575844.py\u001b[0m in \u001b[0;36m<module>\u001b[1;34m\u001b[0m\n\u001b[1;32m----> 1\u001b[1;33m \u001b[0ma\u001b[0m \u001b[1;33m=\u001b[0m \u001b[0mb\u001b[0m\u001b[1;33m\u001b[0m\u001b[1;33m\u001b[0m\u001b[0m\n\u001b[0m\u001b[0;32m      2\u001b[0m \u001b[0mprint\u001b[0m\u001b[1;33m(\u001b[0m\u001b[0ma\u001b[0m\u001b[1;33m)\u001b[0m\u001b[1;33m\u001b[0m\u001b[1;33m\u001b[0m\u001b[0m\n",
      "\u001b[1;31mNameError\u001b[0m: name 'b' is not defined"
     ]
    }
   ],
   "source": [
    "a = b\n",
    "print(a)"
   ]
  },
  {
   "cell_type": "markdown",
   "id": "22a224e4",
   "metadata": {},
   "source": [
    "## 1.  try & except:\n",
    "try ---> it is a code block where exception can occur"
   ]
  },
  {
   "cell_type": "code",
   "execution_count": 2,
   "id": "e43dc64b",
   "metadata": {},
   "outputs": [
    {
     "name": "stdout",
     "output_type": "stream",
     "text": [
      "some problem may have occured\n"
     ]
    }
   ],
   "source": [
    "try:\n",
    "    a = b\n",
    "except:\n",
    "    print('some problem may have occured')"
   ]
  },
  {
   "cell_type": "markdown",
   "id": "ffcd7a43",
   "metadata": {},
   "source": [
    "### using Exception clause:\n",
    "It gives the reason for error"
   ]
  },
  {
   "cell_type": "code",
   "execution_count": 1,
   "id": "806901b8",
   "metadata": {},
   "outputs": [
    {
     "name": "stdout",
     "output_type": "stream",
     "text": [
      "name 'b' is not defined\n"
     ]
    }
   ],
   "source": [
    "try:\n",
    "    a = b\n",
    "except Exception as ex:\n",
    "    print(ex)"
   ]
  },
  {
   "cell_type": "markdown",
   "id": "3ab9cdad",
   "metadata": {},
   "source": [
    "### to make the error user friendly:"
   ]
  },
  {
   "cell_type": "markdown",
   "id": "e374ad1c",
   "metadata": {},
   "source": [
    "###### example-1:"
   ]
  },
  {
   "cell_type": "code",
   "execution_count": 2,
   "id": "8a3dbc23",
   "metadata": {},
   "outputs": [
    {
     "name": "stdout",
     "output_type": "stream",
     "text": [
      "try to define the variable\n"
     ]
    }
   ],
   "source": [
    "try:\n",
    "    a = b\n",
    "except NameError:\n",
    "    print('try to define the variable')\n",
    "except Exception as ex:\n",
    "    print(ex)"
   ]
  },
  {
   "cell_type": "markdown",
   "id": "36bdb837",
   "metadata": {},
   "source": [
    "###### example-2:"
   ]
  },
  {
   "cell_type": "code",
   "execution_count": 12,
   "id": "3cd3ec7c",
   "metadata": {},
   "outputs": [
    {
     "name": "stdout",
     "output_type": "stream",
     "text": [
      "unsupported operand type(s) for +: 'int' and 'str'\n"
     ]
    }
   ],
   "source": [
    "try:\n",
    "    a = 1\n",
    "    b = 'sid'\n",
    "    c = a+b\n",
    "except NameError:\n",
    "    print('try to define the variable')\n",
    "except Exception as ex:\n",
    "    print(ex)"
   ]
  },
  {
   "cell_type": "code",
   "execution_count": 7,
   "id": "ec2eb00c",
   "metadata": {},
   "outputs": [
    {
     "ename": "TypeError",
     "evalue": "unsupported operand type(s) for +: 'int' and 'str'",
     "output_type": "error",
     "traceback": [
      "\u001b[1;31m---------------------------------------------------------------------------\u001b[0m",
      "\u001b[1;31mTypeError\u001b[0m                                 Traceback (most recent call last)",
      "\u001b[1;32m~\\AppData\\Local\\Temp/ipykernel_6956/682404073.py\u001b[0m in \u001b[0;36m<module>\u001b[1;34m\u001b[0m\n\u001b[0;32m      1\u001b[0m \u001b[0ma\u001b[0m \u001b[1;33m=\u001b[0m \u001b[1;36m1\u001b[0m\u001b[1;33m\u001b[0m\u001b[1;33m\u001b[0m\u001b[0m\n\u001b[0;32m      2\u001b[0m \u001b[0mb\u001b[0m \u001b[1;33m=\u001b[0m \u001b[1;34m'sid'\u001b[0m\u001b[1;33m\u001b[0m\u001b[1;33m\u001b[0m\u001b[0m\n\u001b[1;32m----> 3\u001b[1;33m \u001b[0mc\u001b[0m \u001b[1;33m=\u001b[0m \u001b[0ma\u001b[0m\u001b[1;33m+\u001b[0m\u001b[0mb\u001b[0m\u001b[1;33m\u001b[0m\u001b[1;33m\u001b[0m\u001b[0m\n\u001b[0m",
      "\u001b[1;31mTypeError\u001b[0m: unsupported operand type(s) for +: 'int' and 'str'"
     ]
    }
   ],
   "source": [
    "## to find what type of error:\n",
    "a = 1\n",
    "b = 'sid'\n",
    "c = a+b"
   ]
  },
  {
   "cell_type": "code",
   "execution_count": 18,
   "id": "5b383614",
   "metadata": {},
   "outputs": [
    {
     "name": "stdout",
     "output_type": "stream",
     "text": [
      "try to enter variables of same datatype\n"
     ]
    }
   ],
   "source": [
    "try:\n",
    "    a = 1\n",
    "    b = 'sid'\n",
    "    c = a+b\n",
    "except TypeError:\n",
    "    print('try to enter variables of same datatype')\n",
    "except NameError:\n",
    "    print('try to define the variable')\n",
    "except Exception as ex:\n",
    "    print(ex)"
   ]
  },
  {
   "cell_type": "markdown",
   "id": "d7479894",
   "metadata": {},
   "source": [
    "#### complex codes in try except:"
   ]
  },
  {
   "cell_type": "code",
   "execution_count": 1,
   "id": "5355ac9b",
   "metadata": {},
   "outputs": [
    {
     "name": "stdout",
     "output_type": "stream",
     "text": [
      "enter number 1 : 12\n",
      "enter number 2 : 0\n",
      "division by zero\n"
     ]
    }
   ],
   "source": [
    "try:\n",
    "    a = int(input('enter number 1 : '))\n",
    "    b = int(input('enter number 2 : '))\n",
    "    c = a+b\n",
    "    d = a*b\n",
    "    e = a/b\n",
    "    print(c)\n",
    "    print(d)\n",
    "    print(e)\n",
    "except TypeError:\n",
    "    print('try to enter variables of same datatype')\n",
    "except NameError:\n",
    "    print('try to define the variable')\n",
    "except Exception as ex:\n",
    "    print(ex)"
   ]
  },
  {
   "cell_type": "code",
   "execution_count": 2,
   "id": "7c9ebe56",
   "metadata": {},
   "outputs": [
    {
     "ename": "ZeroDivisionError",
     "evalue": "division by zero",
     "output_type": "error",
     "traceback": [
      "\u001b[1;31m---------------------------------------------------------------------------\u001b[0m",
      "\u001b[1;31mZeroDivisionError\u001b[0m                         Traceback (most recent call last)",
      "\u001b[1;32m~\\AppData\\Local\\Temp/ipykernel_8096/547949809.py\u001b[0m in \u001b[0;36m<module>\u001b[1;34m\u001b[0m\n\u001b[0;32m      1\u001b[0m \u001b[1;31m## to find what type of error:\u001b[0m\u001b[1;33m\u001b[0m\u001b[1;33m\u001b[0m\u001b[0m\n\u001b[1;32m----> 2\u001b[1;33m \u001b[1;36m12\u001b[0m\u001b[1;33m/\u001b[0m\u001b[1;36m0\u001b[0m\u001b[1;33m\u001b[0m\u001b[1;33m\u001b[0m\u001b[0m\n\u001b[0m",
      "\u001b[1;31mZeroDivisionError\u001b[0m: division by zero"
     ]
    }
   ],
   "source": [
    "## to find what type of error:\n",
    "12/0"
   ]
  },
  {
   "cell_type": "code",
   "execution_count": 3,
   "id": "8df69c35",
   "metadata": {},
   "outputs": [
    {
     "name": "stdout",
     "output_type": "stream",
     "text": [
      "enter number 1 : 12\n",
      "enter number 2 : 0\n",
      "try to enter number greater than zero\n"
     ]
    }
   ],
   "source": [
    "try:\n",
    "    a = int(input('enter number 1 : '))\n",
    "    b = int(input('enter number 2 : '))\n",
    "    c = a+b\n",
    "    d = a*b\n",
    "    e = a/b\n",
    "    print(c)\n",
    "    print(d)\n",
    "    print(e)\n",
    "except TypeError:\n",
    "    print('try to enter variables of same datatype')\n",
    "except NameError:\n",
    "    print('try to define the variable')\n",
    "except ZeroDivisionError:\n",
    "    print('try to enter number greater than zero')\n",
    "except Exception as ex:       ## Exception clause should always be at the last.\n",
    "    print(ex)"
   ]
  },
  {
   "cell_type": "markdown",
   "id": "05081d53",
   "metadata": {},
   "source": [
    "## 2. try & else:\n",
    "If there is no exception, else_block gets executed."
   ]
  },
  {
   "cell_type": "code",
   "execution_count": 4,
   "id": "1951d0d1",
   "metadata": {},
   "outputs": [
    {
     "name": "stdout",
     "output_type": "stream",
     "text": [
      "enter number 1 : 12\n",
      "enter number 2 : 4\n",
      "16\n",
      "48\n",
      "3.0\n"
     ]
    }
   ],
   "source": [
    "try:\n",
    "    a = int(input('enter number 1 : '))\n",
    "    b = int(input('enter number 2 : '))\n",
    "    c = a+b\n",
    "    d = a*b\n",
    "    e = a/b\n",
    "    \n",
    "except TypeError:\n",
    "    print('try to enter variables of same datatype')\n",
    "except NameError:\n",
    "    print('try to define the variable')\n",
    "except ZeroDivisionError:\n",
    "    print('try to enter number greater than zero')\n",
    "except Exception as ex:       ## Exception clause should always be at the last.\n",
    "    print(ex)\n",
    "    \n",
    "else:\n",
    "    print(c)\n",
    "    print(d)\n",
    "    print(e)"
   ]
  },
  {
   "cell_type": "markdown",
   "id": "5de3442d",
   "metadata": {},
   "source": [
    "## 3. try else & finally:\n",
    "\n",
    "finally : closes the database and comes out of it."
   ]
  },
  {
   "cell_type": "code",
   "execution_count": 4,
   "id": "76866657",
   "metadata": {},
   "outputs": [
    {
     "name": "stdout",
     "output_type": "stream",
     "text": [
      "enter number 1 : 5\n",
      "enter number 2 : 0\n",
      "try to enter number greater than zero\n",
      "the execution is done\n"
     ]
    }
   ],
   "source": [
    "try:\n",
    "    a = int(input('enter number 1 : '))\n",
    "    b = int(input('enter number 2 : '))\n",
    "    c = a/b\n",
    "    \n",
    "except TypeError:\n",
    "    print('try to enter variables of same datatype')\n",
    "except NameError:\n",
    "    print('try to define the variable')\n",
    "except ZeroDivisionError:\n",
    "    print('try to enter number greater than zero')\n",
    "except Exception as ex:       ## Exception clause should always be at the last.\n",
    "    print(ex)\n",
    "    \n",
    "else:\n",
    "    print(c)\n",
    "finally:\n",
    "    print('the execution is done')"
   ]
  },
  {
   "cell_type": "code",
   "execution_count": null,
   "id": "b5872d7e",
   "metadata": {},
   "outputs": [],
   "source": []
  }
 ],
 "metadata": {
  "kernelspec": {
   "display_name": "Python 3 (ipykernel)",
   "language": "python",
   "name": "python3"
  },
  "language_info": {
   "codemirror_mode": {
    "name": "ipython",
    "version": 3
   },
   "file_extension": ".py",
   "mimetype": "text/x-python",
   "name": "python",
   "nbconvert_exporter": "python",
   "pygments_lexer": "ipython3",
   "version": "3.9.7"
  }
 },
 "nbformat": 4,
 "nbformat_minor": 5
}
