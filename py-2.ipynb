{
 "cells": [
  {
   "cell_type": "markdown",
   "id": "102f5d42",
   "metadata": {},
   "source": [
    "## simple function:"
   ]
  },
  {
   "cell_type": "code",
   "execution_count": 1,
   "id": "dec9a0e0",
   "metadata": {},
   "outputs": [],
   "source": [
    "def even_odd(num):\n",
    "    if num%2 == 0:\n",
    "        print('the number is even')\n",
    "    else:\n",
    "        print('the number is odd')"
   ]
  },
  {
   "cell_type": "code",
   "execution_count": 2,
   "id": "529f696a",
   "metadata": {},
   "outputs": [
    {
     "name": "stdout",
     "output_type": "stream",
     "text": [
      "the number is even\n"
     ]
    }
   ],
   "source": [
    "even_odd(24)"
   ]
  },
  {
   "cell_type": "markdown",
   "id": "f358459d",
   "metadata": {},
   "source": [
    "## print() vs return"
   ]
  },
  {
   "cell_type": "code",
   "execution_count": 3,
   "id": "85f6964e",
   "metadata": {},
   "outputs": [],
   "source": [
    "def hello():\n",
    "    print('hello world')"
   ]
  },
  {
   "cell_type": "code",
   "execution_count": 11,
   "id": "c225d013",
   "metadata": {},
   "outputs": [
    {
     "name": "stdout",
     "output_type": "stream",
     "text": [
      "hello world\n"
     ]
    }
   ],
   "source": [
    "hello()      # it will work"
   ]
  },
  {
   "cell_type": "code",
   "execution_count": 13,
   "id": "9a2a7b11",
   "metadata": {},
   "outputs": [
    {
     "name": "stdout",
     "output_type": "stream",
     "text": [
      "hello world\n"
     ]
    }
   ],
   "source": [
    "x = hello()   # it will work"
   ]
  },
  {
   "cell_type": "code",
   "execution_count": 14,
   "id": "9adad9b5",
   "metadata": {},
   "outputs": [
    {
     "name": "stdout",
     "output_type": "stream",
     "text": [
      "None\n"
     ]
    }
   ],
   "source": [
    "print(x)    # it will not work. (does not return the output)"
   ]
  },
  {
   "cell_type": "code",
   "execution_count": 15,
   "id": "f84faa1a",
   "metadata": {},
   "outputs": [],
   "source": [
    "def hello():\n",
    "    return 'hello world'"
   ]
  },
  {
   "cell_type": "code",
   "execution_count": 16,
   "id": "f96be3b5",
   "metadata": {},
   "outputs": [],
   "source": [
    "y = hello()"
   ]
  },
  {
   "cell_type": "code",
   "execution_count": 17,
   "id": "4c29cd03",
   "metadata": {},
   "outputs": [
    {
     "name": "stdout",
     "output_type": "stream",
     "text": [
      "hello world\n"
     ]
    }
   ],
   "source": [
    "print(y)        # output is returned"
   ]
  },
  {
   "cell_type": "markdown",
   "id": "169fd69a",
   "metadata": {},
   "source": [
    "## function with Arguments:"
   ]
  },
  {
   "cell_type": "code",
   "execution_count": 20,
   "id": "0cd41a29",
   "metadata": {},
   "outputs": [],
   "source": [
    "def me(name, age=20):\n",
    "    print('my name is {}, my age is {}'.format(name,age))"
   ]
  },
  {
   "cell_type": "code",
   "execution_count": 23,
   "id": "a40cf6ab",
   "metadata": {},
   "outputs": [
    {
     "name": "stdout",
     "output_type": "stream",
     "text": [
      "my name is sidharth, my age is 20\n"
     ]
    }
   ],
   "source": [
    "val = me('sidharth')"
   ]
  },
  {
   "cell_type": "code",
   "execution_count": null,
   "id": "5be7649f",
   "metadata": {},
   "outputs": [],
   "source": [
    "here,\n",
    "##_ name : Positional argument\n",
    "##_ age  : Keyword argument (ie: in key,value pairs)"
   ]
  },
  {
   "cell_type": "markdown",
   "id": "c4ee3829",
   "metadata": {},
   "source": [
    "## function with Positional args and Keyword args:"
   ]
  },
  {
   "cell_type": "markdown",
   "id": "9e7aac41",
   "metadata": {},
   "source": [
    "###### method-1"
   ]
  },
  {
   "cell_type": "code",
   "execution_count": 24,
   "id": "96a48f24",
   "metadata": {},
   "outputs": [],
   "source": [
    "def pk(*args,**kwargs):\n",
    "    print(args)\n",
    "    print(kwargs)"
   ]
  },
  {
   "cell_type": "code",
   "execution_count": 25,
   "id": "e9ffbe2b",
   "metadata": {},
   "outputs": [
    {
     "name": "stdout",
     "output_type": "stream",
     "text": [
      "('sid', 'akil', 'nitin')\n",
      "{'car1': 'audi', 'car2': 'bmw'}\n"
     ]
    }
   ],
   "source": [
    "pk('sid','akil','nitin',car1='audi',car2='bmw')"
   ]
  },
  {
   "cell_type": "markdown",
   "id": "fb38c52d",
   "metadata": {},
   "source": [
    "###### method-2"
   ]
  },
  {
   "cell_type": "code",
   "execution_count": 26,
   "id": "d0ea6031",
   "metadata": {},
   "outputs": [],
   "source": [
    "m = ['sid', 'akil', 'nitin']\n",
    "n = {'car1': 'audi', 'car2': 'bmw'}"
   ]
  },
  {
   "cell_type": "code",
   "execution_count": 27,
   "id": "ee03028b",
   "metadata": {},
   "outputs": [
    {
     "name": "stdout",
     "output_type": "stream",
     "text": [
      "(['sid', 'akil', 'nitin'], {'car1': 'audi', 'car2': 'bmw'})\n",
      "{}\n"
     ]
    }
   ],
   "source": [
    "pk(m,n)"
   ]
  },
  {
   "cell_type": "code",
   "execution_count": 28,
   "id": "35062dcb",
   "metadata": {},
   "outputs": [
    {
     "name": "stdout",
     "output_type": "stream",
     "text": [
      "('sid', 'akil', 'nitin')\n",
      "{'car1': 'audi', 'car2': 'bmw'}\n"
     ]
    }
   ],
   "source": [
    "pk(*m,**n)"
   ]
  },
  {
   "cell_type": "markdown",
   "id": "ff9d0822",
   "metadata": {},
   "source": [
    "## for loop inside a function:"
   ]
  },
  {
   "cell_type": "code",
   "execution_count": 35,
   "id": "38611d3b",
   "metadata": {},
   "outputs": [],
   "source": [
    "lis = [2,4,1,7,6,3,7,8]"
   ]
  },
  {
   "cell_type": "code",
   "execution_count": 36,
   "id": "b6557bd3",
   "metadata": {},
   "outputs": [],
   "source": [
    "def evenoddsum(lis):\n",
    "    evensum = 0\n",
    "    oddsum = 0\n",
    "    for i in lis:\n",
    "        if i%2==0:\n",
    "            evensum = evensum + i\n",
    "        else:\n",
    "            oddsum = oddsum + i\n",
    "    return evensum,oddsum"
   ]
  },
  {
   "cell_type": "code",
   "execution_count": 37,
   "id": "b54c87a0",
   "metadata": {},
   "outputs": [
    {
     "data": {
      "text/plain": [
       "(20, 18)"
      ]
     },
     "execution_count": 37,
     "metadata": {},
     "output_type": "execute_result"
    }
   ],
   "source": [
    "evenoddsum(lis)"
   ]
  },
  {
   "cell_type": "markdown",
   "id": "51bf3d4d",
   "metadata": {},
   "source": [
    "# Lambda function:\n",
    "\n",
    "lambda is an Anonymous function.\n",
    "\n",
    "it is a function with no Name.\n",
    "\n",
    "It works much faster than other functions."
   ]
  },
  {
   "cell_type": "markdown",
   "id": "6064fbfb",
   "metadata": {},
   "source": [
    "###### function-1 without lambda:"
   ]
  },
  {
   "cell_type": "code",
   "execution_count": 38,
   "id": "88e50ba8",
   "metadata": {},
   "outputs": [],
   "source": [
    "def add(a,b):\n",
    "    return a+b"
   ]
  },
  {
   "cell_type": "code",
   "execution_count": 39,
   "id": "94fb8622",
   "metadata": {},
   "outputs": [
    {
     "data": {
      "text/plain": [
       "8"
      ]
     },
     "execution_count": 39,
     "metadata": {},
     "output_type": "execute_result"
    }
   ],
   "source": [
    "add(3,5)"
   ]
  },
  {
   "cell_type": "markdown",
   "id": "40326f75",
   "metadata": {},
   "source": [
    "###### function-1 with lambda:"
   ]
  },
  {
   "cell_type": "code",
   "execution_count": 40,
   "id": "3cf09332",
   "metadata": {},
   "outputs": [],
   "source": [
    "val = lambda a,b:a+b"
   ]
  },
  {
   "cell_type": "code",
   "execution_count": 41,
   "id": "461c1680",
   "metadata": {},
   "outputs": [
    {
     "data": {
      "text/plain": [
       "8"
      ]
     },
     "execution_count": 41,
     "metadata": {},
     "output_type": "execute_result"
    }
   ],
   "source": [
    "val(3,5)"
   ]
  },
  {
   "cell_type": "markdown",
   "id": "c1028201",
   "metadata": {},
   "source": [
    "###### function-2 without lambda:"
   ]
  },
  {
   "cell_type": "code",
   "execution_count": 42,
   "id": "a1f3576e",
   "metadata": {},
   "outputs": [],
   "source": [
    "def even(x):\n",
    "    if x%2==0:\n",
    "        return True"
   ]
  },
  {
   "cell_type": "code",
   "execution_count": 43,
   "id": "772bccea",
   "metadata": {},
   "outputs": [
    {
     "data": {
      "text/plain": [
       "True"
      ]
     },
     "execution_count": 43,
     "metadata": {},
     "output_type": "execute_result"
    }
   ],
   "source": [
    "even(4)"
   ]
  },
  {
   "cell_type": "markdown",
   "id": "9c459dde",
   "metadata": {},
   "source": [
    "###### function-2 with lambda:"
   ]
  },
  {
   "cell_type": "code",
   "execution_count": 44,
   "id": "f70d5186",
   "metadata": {},
   "outputs": [],
   "source": [
    "even1 = lambda a:a%2==0"
   ]
  },
  {
   "cell_type": "code",
   "execution_count": 45,
   "id": "f7ac943c",
   "metadata": {},
   "outputs": [
    {
     "data": {
      "text/plain": [
       "True"
      ]
     },
     "execution_count": 45,
     "metadata": {},
     "output_type": "execute_result"
    }
   ],
   "source": [
    "even1(4)"
   ]
  },
  {
   "cell_type": "markdown",
   "id": "39412fe0",
   "metadata": {},
   "source": [
    "###### function-3 without lambda:"
   ]
  },
  {
   "cell_type": "code",
   "execution_count": 46,
   "id": "4dcbb3c7",
   "metadata": {},
   "outputs": [],
   "source": [
    "def addition(a,b,c):\n",
    "    return a+b+c"
   ]
  },
  {
   "cell_type": "code",
   "execution_count": 47,
   "id": "6c44608d",
   "metadata": {},
   "outputs": [
    {
     "data": {
      "text/plain": [
       "18"
      ]
     },
     "execution_count": 47,
     "metadata": {},
     "output_type": "execute_result"
    }
   ],
   "source": [
    "addition(5,7,6)"
   ]
  },
  {
   "cell_type": "markdown",
   "id": "b82ef3e7",
   "metadata": {},
   "source": [
    "###### function-3 with lambda:"
   ]
  },
  {
   "cell_type": "code",
   "execution_count": 48,
   "id": "da8e93e4",
   "metadata": {},
   "outputs": [],
   "source": [
    "add3 = lambda a,b,c:a+b+c"
   ]
  },
  {
   "cell_type": "code",
   "execution_count": 49,
   "id": "a74350e3",
   "metadata": {},
   "outputs": [
    {
     "data": {
      "text/plain": [
       "18"
      ]
     },
     "execution_count": 49,
     "metadata": {},
     "output_type": "execute_result"
    }
   ],
   "source": [
    "add3(5,7,6)"
   ]
  },
  {
   "cell_type": "markdown",
   "id": "92ed60f7",
   "metadata": {},
   "source": [
    "# Map function:"
   ]
  },
  {
   "cell_type": "markdown",
   "id": "32ba6aa9",
   "metadata": {},
   "source": [
    "###### passing only one element without map function:"
   ]
  },
  {
   "cell_type": "code",
   "execution_count": 50,
   "id": "ad4e697f",
   "metadata": {},
   "outputs": [],
   "source": [
    "def even_or_odd(num):\n",
    "    if num%2 == 0:\n",
    "        return 'the number {} is even'.format(num)\n",
    "    else:\n",
    "        return 'the number {} is odd'.format(num)"
   ]
  },
  {
   "cell_type": "code",
   "execution_count": 53,
   "id": "6c28fe79",
   "metadata": {},
   "outputs": [
    {
     "data": {
      "text/plain": [
       "'the number 25 is odd'"
      ]
     },
     "execution_count": 53,
     "metadata": {},
     "output_type": "execute_result"
    }
   ],
   "source": [
    "even_or_odd(25)"
   ]
  },
  {
   "cell_type": "markdown",
   "id": "15df5115",
   "metadata": {},
   "source": [
    "###### passing multiple elements without map function:"
   ]
  },
  {
   "cell_type": "code",
   "execution_count": 66,
   "id": "7a14be50",
   "metadata": {},
   "outputs": [],
   "source": [
    "def even_or_odd(lis):\n",
    "    a1=[]\n",
    "    for i in lis:\n",
    "        if i%2 == 0:\n",
    "            a1.append('the number {} is even'.format(i))\n",
    "        else:\n",
    "            a1.append('the number {} is odd'.format(i))\n",
    "    return a1"
   ]
  },
  {
   "cell_type": "code",
   "execution_count": 67,
   "id": "73a2f13d",
   "metadata": {},
   "outputs": [],
   "source": [
    "lis = [2,5,4,8,7,9,6,1]"
   ]
  },
  {
   "cell_type": "code",
   "execution_count": 68,
   "id": "b95940db",
   "metadata": {},
   "outputs": [
    {
     "data": {
      "text/plain": [
       "['the number 2 is even',\n",
       " 'the number 5 is odd',\n",
       " 'the number 4 is even',\n",
       " 'the number 8 is even',\n",
       " 'the number 7 is odd',\n",
       " 'the number 9 is odd',\n",
       " 'the number 6 is even',\n",
       " 'the number 1 is odd']"
      ]
     },
     "execution_count": 68,
     "metadata": {},
     "output_type": "execute_result"
    }
   ],
   "source": [
    "even_or_odd(lis)"
   ]
  },
  {
   "cell_type": "markdown",
   "id": "6104b689",
   "metadata": {},
   "source": [
    "###### same problem using Map function:"
   ]
  },
  {
   "cell_type": "code",
   "execution_count": 5,
   "id": "dc37c48d",
   "metadata": {},
   "outputs": [],
   "source": [
    "lis = [2,5,4,8,7,9,6,1]"
   ]
  },
  {
   "cell_type": "code",
   "execution_count": 6,
   "id": "a3c9439b",
   "metadata": {},
   "outputs": [],
   "source": [
    "def even_or_odd(num):\n",
    "    if num%2 == 0:\n",
    "        return 'the number {} is even'.format(num)\n",
    "    else:\n",
    "        return 'the number {} is odd'.format(num)"
   ]
  },
  {
   "cell_type": "code",
   "execution_count": 7,
   "id": "2d9e5f58",
   "metadata": {},
   "outputs": [
    {
     "data": {
      "text/plain": [
       "<map at 0x22792836c70>"
      ]
     },
     "execution_count": 7,
     "metadata": {},
     "output_type": "execute_result"
    }
   ],
   "source": [
    "map (even_or_odd , lis)   # syntax == map( function, iterables)"
   ]
  },
  {
   "cell_type": "code",
   "execution_count": 8,
   "id": "ccd148e4",
   "metadata": {},
   "outputs": [
    {
     "data": {
      "text/plain": [
       "['the number 2 is even',\n",
       " 'the number 5 is odd',\n",
       " 'the number 4 is even',\n",
       " 'the number 8 is even',\n",
       " 'the number 7 is odd',\n",
       " 'the number 9 is odd',\n",
       " 'the number 6 is even',\n",
       " 'the number 1 is odd']"
      ]
     },
     "execution_count": 8,
     "metadata": {},
     "output_type": "execute_result"
    }
   ],
   "source": [
    "list(map (even_or_odd , lis))"
   ]
  },
  {
   "cell_type": "markdown",
   "id": "679cb035",
   "metadata": {},
   "source": [
    "# Filter function:"
   ]
  },
  {
   "cell_type": "code",
   "execution_count": 9,
   "id": "b1ef833b",
   "metadata": {},
   "outputs": [],
   "source": [
    "def even(num):\n",
    "    if num%2==0:\n",
    "        return True"
   ]
  },
  {
   "cell_type": "code",
   "execution_count": 10,
   "id": "b1937cf5",
   "metadata": {},
   "outputs": [],
   "source": [
    "lis = [1,2,3,4,9,8,7,6,5]"
   ]
  },
  {
   "cell_type": "code",
   "execution_count": 11,
   "id": "087edd74",
   "metadata": {},
   "outputs": [
    {
     "data": {
      "text/plain": [
       "<filter at 0x227928ef040>"
      ]
     },
     "execution_count": 11,
     "metadata": {},
     "output_type": "execute_result"
    }
   ],
   "source": [
    "filter(even,lis)    # syntax == filter (function, iterables)"
   ]
  },
  {
   "cell_type": "code",
   "execution_count": 12,
   "id": "40b829f0",
   "metadata": {},
   "outputs": [
    {
     "data": {
      "text/plain": [
       "[2, 4, 8, 6]"
      ]
     },
     "execution_count": 12,
     "metadata": {},
     "output_type": "execute_result"
    }
   ],
   "source": [
    "list(filter(even,lis))"
   ]
  },
  {
   "cell_type": "markdown",
   "id": "9b984685",
   "metadata": {},
   "source": [
    "## Filter + Lambda:"
   ]
  },
  {
   "cell_type": "code",
   "execution_count": 13,
   "id": "ab220565",
   "metadata": {},
   "outputs": [],
   "source": [
    "lis1 = [1,2,3,4,9,8,7,6,5]"
   ]
  },
  {
   "cell_type": "code",
   "execution_count": 15,
   "id": "f7e315eb",
   "metadata": {},
   "outputs": [
    {
     "data": {
      "text/plain": [
       "[2, 4, 8, 6]"
      ]
     },
     "execution_count": 15,
     "metadata": {},
     "output_type": "execute_result"
    }
   ],
   "source": [
    "list(filter(lambda a:a%2==0, lis1))"
   ]
  },
  {
   "cell_type": "markdown",
   "id": "50acca67",
   "metadata": {},
   "source": [
    "## Map + Lambda:"
   ]
  },
  {
   "cell_type": "code",
   "execution_count": 16,
   "id": "0f4141e0",
   "metadata": {},
   "outputs": [],
   "source": [
    "lis2 = [1,2,3,4,9,8,7,6,5]"
   ]
  },
  {
   "cell_type": "code",
   "execution_count": 17,
   "id": "54a53fde",
   "metadata": {},
   "outputs": [
    {
     "data": {
      "text/plain": [
       "[False, True, False, True, False, True, False, True, False]"
      ]
     },
     "execution_count": 17,
     "metadata": {},
     "output_type": "execute_result"
    }
   ],
   "source": [
    "list(map(lambda a:a%2==0, lis1))"
   ]
  },
  {
   "cell_type": "markdown",
   "id": "2edebf1a",
   "metadata": {},
   "source": [
    "# List Comprehension:"
   ]
  },
  {
   "cell_type": "markdown",
   "id": "73bf1656",
   "metadata": {},
   "source": [
    "#### 1. List comprehension provides an easy way to display output in Lists. "
   ]
  },
  {
   "cell_type": "markdown",
   "id": "4a294f3e",
   "metadata": {},
   "source": [
    "#### 2. It consists of Brackets[ ] containing an Expression(i*i), followed by a for loop (for i in lis). And then zero or more for/if clauses (if i%2==0)."
   ]
  },
  {
   "cell_type": "markdown",
   "id": "832db4e4",
   "metadata": {},
   "source": [
    "###### normal function:"
   ]
  },
  {
   "cell_type": "code",
   "execution_count": 1,
   "id": "6c6032bd",
   "metadata": {},
   "outputs": [],
   "source": [
    "lis1=[]\n",
    "def sq_lis(lis):\n",
    "    for i in lis:\n",
    "        lis1.append(i*i)\n",
    "    return lis1"
   ]
  },
  {
   "cell_type": "code",
   "execution_count": 2,
   "id": "54fb1962",
   "metadata": {},
   "outputs": [],
   "source": [
    "lis = sq_lis([1,2,5,4,6,3,7,8,9])"
   ]
  },
  {
   "cell_type": "code",
   "execution_count": 3,
   "id": "63a40499",
   "metadata": {},
   "outputs": [
    {
     "data": {
      "text/plain": [
       "[1, 4, 25, 16, 36, 9, 49, 64, 81]"
      ]
     },
     "execution_count": 3,
     "metadata": {},
     "output_type": "execute_result"
    }
   ],
   "source": [
    "lis"
   ]
  },
  {
   "cell_type": "markdown",
   "id": "f1a70131",
   "metadata": {},
   "source": [
    "###### same function using List comprehension:"
   ]
  },
  {
   "cell_type": "code",
   "execution_count": 4,
   "id": "21494352",
   "metadata": {},
   "outputs": [],
   "source": [
    "lis5 = [1,2,5,4,6,3,7,8,9]"
   ]
  },
  {
   "cell_type": "code",
   "execution_count": 5,
   "id": "7b930706",
   "metadata": {},
   "outputs": [
    {
     "data": {
      "text/plain": [
       "[1, 4, 25, 16, 36, 9, 49, 64, 81]"
      ]
     },
     "execution_count": 5,
     "metadata": {},
     "output_type": "execute_result"
    }
   ],
   "source": [
    "[i*i for i in lis5]"
   ]
  },
  {
   "cell_type": "code",
   "execution_count": 6,
   "id": "d3192a0e",
   "metadata": {},
   "outputs": [
    {
     "data": {
      "text/plain": [
       "[1, 4, 25, 16, 36, 9, 49, 64, 81]"
      ]
     },
     "execution_count": 6,
     "metadata": {},
     "output_type": "execute_result"
    }
   ],
   "source": [
    "var = [i*i for i in lis5]\n",
    "var"
   ]
  },
  {
   "cell_type": "markdown",
   "id": "25e75d0f",
   "metadata": {},
   "source": [
    "###### value addition to the List comprehension:"
   ]
  },
  {
   "cell_type": "code",
   "execution_count": 7,
   "id": "04a53d3c",
   "metadata": {},
   "outputs": [
    {
     "data": {
      "text/plain": [
       "[4, 16, 36, 64]"
      ]
     },
     "execution_count": 7,
     "metadata": {},
     "output_type": "execute_result"
    }
   ],
   "source": [
    "var5 = [i*i for i in lis5 if i%2==0]\n",
    "var5"
   ]
  },
  {
   "cell_type": "code",
   "execution_count": null,
   "id": "78c63f56",
   "metadata": {},
   "outputs": [],
   "source": []
  }
 ],
 "metadata": {
  "kernelspec": {
   "display_name": "Python 3 (ipykernel)",
   "language": "python",
   "name": "python3"
  },
  "language_info": {
   "codemirror_mode": {
    "name": "ipython",
    "version": 3
   },
   "file_extension": ".py",
   "mimetype": "text/x-python",
   "name": "python",
   "nbconvert_exporter": "python",
   "pygments_lexer": "ipython3",
   "version": "3.9.7"
  }
 },
 "nbformat": 4,
 "nbformat_minor": 5
}
